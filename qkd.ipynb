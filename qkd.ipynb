{
 "cells": [
  {
   "cell_type": "markdown",
   "metadata": {},
   "source": [
    "# Quantum Key Distribution\n",
    "\n",
    "Quantum key distribution is the process of distributing cryptographic keys between parties using quantum methods. Due to the unique properties of quantum information compared to classical, the security of a key can be guarunteed (as any unwelcomed measurement would change the state of quantum information transmitted).\n",
    "\n",
    "Experimental setup for QKD is as follows:\n",
    "\n",
    "<img src=\"./notebook_images/qkd.png\" width=\"500\"/>"
   ]
  },
  {
   "cell_type": "markdown",
   "metadata": {},
   "source": [
    "##  QKD without cascade protocol\n",
    "\n",
    "- `Timeline` provides an interface for the discrete-event simulation kernel.\n",
    "- `QKDNode` implements quantum key distribution, including necessary hardware and protocol implementations.\n",
    "- `QuantumChannel` and `ClassicalChannel` serve as communication links between the nodes.\n",
    "- The `pair_bb84_protocols` function is used to explicitly pair 2 node instances for key distribution, and establishes one node as the sender \"Alice\" and one as the receiver \"Bob\"."
   ]
  },
  {
   "cell_type": "code",
   "execution_count": 1,
   "metadata": {},
   "outputs": [],
   "source": [
    "from ipywidgets import interact\n",
    "from matplotlib import pyplot as plt\n",
    "import time"
   ]
  },
  {
   "cell_type": "code",
   "execution_count": 2,
   "metadata": {},
   "outputs": [
    {
     "ename": "ModuleNotFoundError",
     "evalue": "No module named 'sequence'",
     "output_type": "error",
     "traceback": [
      "\u001b[1;31m---------------------------------------------------------------------------\u001b[0m",
      "\u001b[1;31mModuleNotFoundError\u001b[0m                       Traceback (most recent call last)",
      "\u001b[1;32mC:\\Users\\PRADNE~1\\AppData\\Local\\Temp/ipykernel_8848/2239432008.py\u001b[0m in \u001b[0;36m<module>\u001b[1;34m\u001b[0m\n\u001b[1;32m----> 1\u001b[1;33m \u001b[1;32mfrom\u001b[0m \u001b[0msequence\u001b[0m\u001b[1;33m.\u001b[0m\u001b[0mkernel\u001b[0m\u001b[1;33m.\u001b[0m\u001b[0mtimeline\u001b[0m \u001b[1;32mimport\u001b[0m \u001b[0mTimeline\u001b[0m\u001b[1;33m\u001b[0m\u001b[1;33m\u001b[0m\u001b[0m\n\u001b[0m\u001b[0;32m      2\u001b[0m \u001b[1;32mfrom\u001b[0m \u001b[0msequence\u001b[0m\u001b[1;33m.\u001b[0m\u001b[0mtopology\u001b[0m\u001b[1;33m.\u001b[0m\u001b[0mnode\u001b[0m \u001b[1;32mimport\u001b[0m \u001b[0mQKDNode\u001b[0m\u001b[1;33m\u001b[0m\u001b[1;33m\u001b[0m\u001b[0m\n\u001b[0;32m      3\u001b[0m \u001b[1;32mfrom\u001b[0m \u001b[0msequence\u001b[0m\u001b[1;33m.\u001b[0m\u001b[0mcomponents\u001b[0m\u001b[1;33m.\u001b[0m\u001b[0moptical_channel\u001b[0m \u001b[1;32mimport\u001b[0m \u001b[0mQuantumChannel\u001b[0m\u001b[1;33m,\u001b[0m \u001b[0mClassicalChannel\u001b[0m\u001b[1;33m\u001b[0m\u001b[1;33m\u001b[0m\u001b[0m\n\u001b[0;32m      4\u001b[0m \u001b[1;32mfrom\u001b[0m \u001b[0msequence\u001b[0m\u001b[1;33m.\u001b[0m\u001b[0mqkd\u001b[0m\u001b[1;33m.\u001b[0m\u001b[0mBB84\u001b[0m \u001b[1;32mimport\u001b[0m \u001b[0mpair_bb84_protocols\u001b[0m\u001b[1;33m\u001b[0m\u001b[1;33m\u001b[0m\u001b[0m\n",
      "\u001b[1;31mModuleNotFoundError\u001b[0m: No module named 'sequence'"
     ]
    }
   ],
   "source": [
    "from sequence.kernel.timeline import Timeline\n",
    "from sequence.topology.node import QKDNode\n",
    "from sequence.components.optical_channel import QuantumChannel, ClassicalChannel\n",
    "from sequence.qkd.BB84 import pair_bb84_protocols"
   ]
  },
  {
   "cell_type": "code",
   "execution_count": 3,
   "metadata": {},
   "outputs": [],
   "source": [
    "class KeyManager():\n",
    "    def __init__(self, timeline, keysize, num_keys):\n",
    "        self.timeline = timeline\n",
    "        self.lower_protocols = []\n",
    "        self.keysize = keysize\n",
    "        self.num_keys = num_keys\n",
    "        self.keys = []\n",
    "        self.times = []\n",
    "        \n",
    "    def send_request(self):\n",
    "        for p in self.lower_protocols:\n",
    "            p.push(self.keysize, self.num_keys) \n",
    "            \n",
    "    def pop(self, info): \n",
    "        self.keys.append(info)\n",
    "        self.times.append(self.timeline.now() * 1e-9)"
   ]
  },
  {
   "cell_type": "code",
   "execution_count": 4,
   "metadata": {},
   "outputs": [],
   "source": [
    "def test(sim_time, keysize):\n",
    "    \"\"\"\n",
    "    sim_time: duration of simulation time (ms)\n",
    "    keysize: size of generated secure key (bits)\n",
    "    \"\"\"\n",
    "    tl = Timeline(sim_time * 1e9)\n",
    "    tl.seed(0)\n",
    "    \n",
    "    n1 = QKDNode(\"n1\", tl, stack_size=1)\n",
    "    n2 = QKDNode(\"n2\", tl, stack_size=1)\n",
    "    pair_bb84_protocols(n1.protocol_stack[0], n2.protocol_stack[0])\n",
    "    \n",
    "\n",
    "    cc0 = ClassicalChannel(\"cc_n1_n2\", tl, distance=1e3)\n",
    "    cc1 = ClassicalChannel(\"cc_n2_n1\", tl, distance=1e3)\n",
    "    cc0.set_ends(n1, n2.name)\n",
    "    cc1.set_ends(n2, n1.name)\n",
    "    qc0 = QuantumChannel(\"qc_n1_n2\", tl, attenuation=1e-5, distance=1e3, polarization_fidelity=0.97)\n",
    "    qc1 = QuantumChannel(\"qc_n2_n1\", tl, attenuation=1e-5, distance=1e3, polarization_fidelity=0.97)\n",
    "    qc0.set_ends(n1, n2.name)\n",
    "    qc1.set_ends(n2, n1.name)\n",
    "    \n",
    "    km1 = KeyManager(tl, keysize, 25)\n",
    "    km1.lower_protocols.append(n1.protocol_stack[0])\n",
    "    n1.protocol_stack[0].upper_protocols.append(km1)\n",
    "    km2 = KeyManager(tl, keysize, 25)\n",
    "    km2.lower_protocols.append(n2.protocol_stack[0])\n",
    "    n2.protocol_stack[0].upper_protocols.append(km2)\n",
    "    \n",
    "    tl.init()\n",
    "    km1.send_request()\n",
    "    tick = time.time()\n",
    "    tl.run()\n",
    "    print(\"execution time %.2f sec\" % (time.time() - tick))\n",
    "    \n",
    "    plt.plot(km1.times, range(1, len(km1.keys) + 1), marker=\"o\")\n",
    "    plt.xlabel(\"Simulation time (ms)\")\n",
    "    plt.ylabel(\"Number of Completed Keys\")\n",
    "    plt.show()\n",
    "    \n",
    "    print(\"key error rates:\")\n",
    "    for i, e in enumerate(n1.protocol_stack[0].error_rates):\n",
    "        print(\"\\tkey {}:\\t{}%\".format(i + 1, e * 100))"
   ]
  },
  {
   "cell_type": "markdown",
   "metadata": {},
   "source": [
    "### Execution\n",
    "\n",
    "Parameters:\n",
    "\n",
    "    sim_time: duration of simulation time (ms)\n",
    "    keysize: size of generated secure key (bits)"
   ]
  },
  {
   "cell_type": "code",
   "execution_count": 5,
   "metadata": {},
   "outputs": [
    {
     "data": {
      "application/vnd.jupyter.widget-view+json": {
       "model_id": "ff78a97574d447029dbeb13e0399cda8",
       "version_major": 2,
       "version_minor": 0
      },
      "text/plain": [
       "interactive(children=(IntSlider(value=500, description='sim_time', max=1000, min=100, step=100), Dropdown(desc…"
      ]
     },
     "metadata": {},
     "output_type": "display_data"
    },
    {
     "data": {
      "text/plain": [
       "<function __main__.test(sim_time, keysize)>"
      ]
     },
     "execution_count": 5,
     "metadata": {},
     "output_type": "execute_result"
    }
   ],
   "source": [
    "# Create and run the simulation\n",
    "interactive_plot = interact(test, sim_time=(100, 1000, 100), keysize=[128, 256, 512])\n",
    "interactive_plot"
   ]
  },
  {
   "cell_type": "markdown",
   "metadata": {},
   "source": [
    "## QKD with cascade protocol\n"
   ]
  },
  {
   "cell_type": "code",
   "execution_count": 6,
   "metadata": {},
   "outputs": [],
   "source": [
    "from sequence.qkd.cascade import pair_cascade_protocols\n",
    "\n",
    "class KeyManager():\n",
    "    def __init__(self, timeline, keysize, num_keys):\n",
    "        self.timeline = timeline\n",
    "        self.lower_protocols = []\n",
    "        self.keysize = keysize\n",
    "        self.num_keys = num_keys\n",
    "        self.keys = []\n",
    "        self.times = []\n",
    "        \n",
    "    def send_request(self):\n",
    "        for p in self.lower_protocols:\n",
    "            p.push(self.keysize, self.num_keys) \n",
    "            \n",
    "    def pop(self, key): \n",
    "        self.keys.append(key)\n",
    "        self.times.append(self.timeline.now() * 1e-9)\n",
    "        \n",
    "def test(sim_time, keysize):\n",
    "    \"\"\"\n",
    "    sim_time: duration of simulation time (ms)\n",
    "    keysize: size of generated secure key (bits)\n",
    "    \"\"\"\n",
    "    tl = Timeline(sim_time * 1e9)\n",
    "    tl.seed(0)\n",
    "    \n",
    "    n1 = QKDNode(\"n1\", tl)\n",
    "    n2 = QKDNode(\"n2\", tl)\n",
    "    pair_bb84_protocols(n1.protocol_stack[0], n2.protocol_stack[0])\n",
    "    pair_cascade_protocols(n1.protocol_stack[1], n2.protocol_stack[1])\n",
    "    \n",
    "    cc0 = ClassicalChannel(\"cc_n1_n2\", tl, distance=1e3)\n",
    "    cc1 = ClassicalChannel(\"cc_n2_n1\", tl, distance=1e3)\n",
    "    cc0.set_ends(n1, n2.name)\n",
    "    cc1.set_ends(n2, n1.name)\n",
    "    qc0 = QuantumChannel(\"qc_n1_n2\", tl, attenuation=1e-5, distance=1e3, polarization_fidelity=0.97)\n",
    "    qc1 = QuantumChannel(\"qc_n2_n1\", tl, attenuation=1e-5, distance=1e3, polarization_fidelity=0.97)\n",
    "    qc0.set_ends(n1, n2.name)\n",
    "    qc1.set_ends(n2, n1.name)\n",
    "    \n",
    "    km1 = KeyManager(tl, keysize, 10)\n",
    "    km1.lower_protocols.append(n1.protocol_stack[1])\n",
    "    n1.protocol_stack[1].upper_protocols.append(km1)\n",
    "    km2 = KeyManager(tl, keysize, 10)\n",
    "    km2.lower_protocols.append(n2.protocol_stack[1])\n",
    "    n2.protocol_stack[1].upper_protocols.append(km2)\n",
    "    \n",
    "    tl.init()\n",
    "    km1.send_request()\n",
    "    tick = time.time()\n",
    "    tl.run()\n",
    "    print(\"execution time %.2f sec\" % (time.time() - tick))\n",
    "    \n",
    "    plt.plot(km1.times, range(1, len(km1.keys) + 1), marker=\"o\")\n",
    "    plt.xlabel(\"Simulation time (ms)\")\n",
    "    plt.ylabel(\"Number of Completed Keys\")\n",
    "    plt.show()\n",
    "    \n",
    "    error_rates = []\n",
    "    for i, key in enumerate(km1.keys):\n",
    "        counter = 0\n",
    "        diff = key ^ km2.keys[i]\n",
    "        for j in range(km1.keysize):\n",
    "            counter += (diff >> j) & 1\n",
    "        error_rates.append(counter)\n",
    "\n",
    "    print(\"key error rates:\")\n",
    "    for i, e in enumerate(error_rates):\n",
    "        print(\"\\tkey {}:\\t{}%\".format(i + 1, e * 100))"
   ]
  },
  {
   "cell_type": "markdown",
   "metadata": {},
   "source": [
    "### Execution\n",
    "\n",
    "Parameters:\n",
    "\n",
    "    sim_time: duration of simulation time (ms)\n",
    "    keysize: size of generated secure key (bits)\n",
    "    "
   ]
  },
  {
   "cell_type": "code",
   "execution_count": 7,
   "metadata": {},
   "outputs": [
    {
     "data": {
      "application/vnd.jupyter.widget-view+json": {
       "model_id": "17ed86e425b24158a3e5b8da3e99ce4e",
       "version_major": 2,
       "version_minor": 0
      },
      "text/plain": [
       "interactive(children=(IntSlider(value=500, description='sim_time', max=1000, min=100, step=100), Dropdown(desc…"
      ]
     },
     "metadata": {},
     "output_type": "display_data"
    },
    {
     "data": {
      "text/plain": [
       "<function __main__.test(sim_time, keysize)>"
      ]
     },
     "execution_count": 7,
     "metadata": {},
     "output_type": "execute_result"
    }
   ],
   "source": [
    "interactive_plot = interact(test, sim_time=(100, 1000, 100), keysize=[128, 256, 512])\n",
    "interactive_plot"
   ]
  }
 ],
 "metadata": {
  "kernelspec": {
   "display_name": "Python 3 (ipykernel)",
   "language": "python",
   "name": "python3"
  },
  "language_info": {
   "codemirror_mode": {
    "name": "ipython",
    "version": 3
   },
   "file_extension": ".py",
   "mimetype": "text/x-python",
   "name": "python",
   "nbconvert_exporter": "python",
   "pygments_lexer": "ipython3",
   "version": "3.9.7"
  }
 },
 "nbformat": 4,
 "nbformat_minor": 4
}

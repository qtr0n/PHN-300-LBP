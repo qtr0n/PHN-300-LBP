{
 "cells": [
  {
   "cell_type": "markdown",
   "metadata": {},
   "source": [
    "# Three Node Network\n",
    "\n",
    "Linear topology with three nodes and two BSM nodes for entanglement distribution\n",
    "\n",
    "<img src=\"./notebook_images/teee.png\" width=\"500\"/>\n"
   ]
  },
  {
   "cell_type": "markdown",
   "metadata": {},
   "source": [
    "The SeQUeNCe simulator makes use of the following modules:\n",
    "\n",
    "- `Timeline`provides an interface for the discrete-event simulation kernel.\n",
    "- `QuantumRouter` implements a quantum router. \n",
    "- `BSMNode` implements a quantum node for entanglement generation.\n",
    "- `QuantumChannel` and `ClassicalChannel` serve as communication links between the nodes."
   ]
  },
  {
   "cell_type": "code",
   "execution_count": 1,
   "metadata": {},
   "outputs": [],
   "source": [
    "from ipywidgets import interact\n",
    "from matplotlib import pyplot as plt\n",
    "import time"
   ]
  },
  {
   "cell_type": "code",
   "execution_count": 2,
   "metadata": {},
   "outputs": [],
   "source": [
    "from sequence.kernel.timeline import Timeline\n",
    "from sequence.topology.node import QuantumRouter, BSMNode\n",
    "from sequence.components.optical_channel import QuantumChannel, ClassicalChannel"
   ]
  },
  {
   "cell_type": "code",
   "execution_count": 3,
   "metadata": {
    "pycharm": {
     "name": "#%%\n"
    }
   },
   "outputs": [],
   "source": [
    "def test(sim_time, cc_delay, qc_atten, qc_dist):\n",
    "    \"\"\"\n",
    "    sim_time: duration of simulation time (ms)\n",
    "    cc_delay: delay on classical channels (ns)\n",
    "    qc_atten: attenuation on quantum channels (db/m)\n",
    "    qc_dist: distance of quantum channels (km)\n",
    "    \"\"\"\n",
    "    cc_delay *= 1e6\n",
    "    qc_dist *= 1e3\n",
    "    raw_fidelity = 0.85\n",
    "    tl = Timeline(sim_time * 1e9)\n",
    "    tl.seed(0)\n",
    "    \n",
    "    r1 = QuantumRouter(\"r1\", tl, 50)\n",
    "    r2 = QuantumRouter(\"r2\", tl, 100)\n",
    "    r3 = QuantumRouter(\"r3\", tl, 50)\n",
    "    m1 = BSMNode(\"m1\", tl, [\"r1\", \"r2\"])\n",
    "    m2 = BSMNode(\"m2\", tl, [\"r2\", \"r3\"])\n",
    "    \n",
    "    r1.add_bsm_node(m1.name, r2.name)\n",
    "    r2.add_bsm_node(m1.name, r1.name)\n",
    "    r2.add_bsm_node(m2.name, r3.name)\n",
    "    r3.add_bsm_node(m2.name, r2.name)\n",
    "    \n",
    "    for node in [r1, r2, r3]:\n",
    "        node.memory_array.update_memory_params(\"coherence_time\", 10)\n",
    "    for node in [r1,r2,r3]:\n",
    "        node.memory_array.update_memory_params(\"raw_fidelity\", raw_fidelity)\n",
    "    \n",
    "    nodes = [r1, r2, r3, m1, m2]\n",
    "    for node1 in nodes:\n",
    "        for node2 in nodes:\n",
    "            if node1 == node2:\n",
    "                continue\n",
    "            cc = ClassicalChannel(\"cc_%s_%s\"%(node1.name, node2.name), tl, 1e3, delay=cc_delay)\n",
    "            cc.set_ends(node1, node2.name)\n",
    "            \n",
    "    for i, node in enumerate(nodes):  # Random Number Generation \n",
    "        node.set_seed(i)\n",
    "\n",
    "    r1.network_manager.protocol_stack[0].add_forwarding_rule(\"r2\", \"r2\")\n",
    "    r1.network_manager.protocol_stack[0].add_forwarding_rule(\"r3\", \"r2\")\n",
    "    r2.network_manager.protocol_stack[0].add_forwarding_rule(\"r1\", \"r1\")\n",
    "    r2.network_manager.protocol_stack[0].add_forwarding_rule(\"r3\", \"r3\")\n",
    "    r3.network_manager.protocol_stack[0].add_forwarding_rule(\"r1\", \"r2\")\n",
    "    r3.network_manager.protocol_stack[0].add_forwarding_rule(\"r2\", \"r2\")\n",
    "    \n",
    "    qc0 = QuantumChannel(\"qc_r1_m1\", tl, qc_atten, qc_dist)\n",
    "    qc1 = QuantumChannel(\"qc_r2_m1\", tl, qc_atten, qc_dist)\n",
    "    qc0.set_ends(r1, m1.name)\n",
    "    qc1.set_ends(r2, m1.name)\n",
    "    qc2 = QuantumChannel(\"qc_r2_m2\", tl, qc_atten, qc_dist)\n",
    "    qc3 = QuantumChannel(\"qc_r3_m2\", tl, qc_atten, qc_dist)\n",
    "    qc2.set_ends(r2, m2.name)\n",
    "    qc3.set_ends(r3, m2.name)\n",
    "    \n",
    "    tl.init()\n",
    "    \n",
    "    r1.network_manager.request(\"r3\", 1e12, 1e14, 50, 0.9)\n",
    "\n",
    "    tick = time.time()\n",
    "    tl.run()\n",
    "    print(\"execution time %.2f sec\" % (time.time() - tick))\n",
    "    \n",
    "    fig, (ax1, ax2, ax3) = plt.subplots(1, 3)\n",
    "    fig.set_size_inches(12, 5)\n",
    "\n",
    "    data = []\n",
    "    for info in r1.resource_manager.memory_manager:\n",
    "        if info.entangle_time > 0:\n",
    "            data.append(info.entangle_time / 1e12)\n",
    "    data.sort()\n",
    "    ax1.plot(data, range(1, len(data) + 1), marker=\"o\")\n",
    "    ax1.set_title(\"r1\")\n",
    "    ax1.set_ylabel(\"Number of Entangled Memories\")\n",
    "    \n",
    "    data = []\n",
    "    for info in r2.resource_manager.memory_manager:\n",
    "        if info.entangle_time > 0:\n",
    "            data.append(info.entangle_time / 1e12)\n",
    "    data.sort()\n",
    "    ax2.plot(data, range(1, len(data) + 1), marker=\"o\")\n",
    "    ax2.set_title(\"r2\")\n",
    "    ax2.set_xlabel(\"Simulation Time (s)\")\n",
    "    \n",
    "    data = []\n",
    "    for info in r3.resource_manager.memory_manager:\n",
    "        if info.entangle_time > 0:\n",
    "            data.append(info.entangle_time / 1e12)\n",
    "    data.sort()\n",
    "    ax3.plot(data, range(1, len(data) + 1), marker=\"o\")\n",
    "    ax3.set_title(\"r3\")\n",
    "    \n",
    "    fig.tight_layout()    \n",
    "    fig, (ax1, ax2, ax3) = plt.subplots(1, 3)\n",
    "    fig.set_size_inches(12, 5)\n",
    "    \n",
    "    data = []\n",
    "    for info in r1.resource_manager.memory_manager:\n",
    "        data.append(info.fidelity)\n",
    "    ax1.bar(range(len(data)), data)\n",
    "    ax1.plot([0, len(data)], [raw_fidelity, raw_fidelity], \"k--\")\n",
    "    ax1.plot([0, len(data)], [0.9, 0.9], \"k--\")\n",
    "    ax1.set_ylim(0.7,1)\n",
    "    ax1.set_title(\"r1\")\n",
    "    ax1.set_ylabel(\"Fidelity\")\n",
    "\n",
    "    data = []\n",
    "    for info in r2.resource_manager.memory_manager:\n",
    "        data.append(info.fidelity)\n",
    "    ax2.bar(range(len(data)), data)\n",
    "    ax2.plot([0, len(data)], [raw_fidelity, raw_fidelity], \"k--\")\n",
    "    ax2.plot([0, len(data)], [0.9, 0.9], \"k--\")\n",
    "    ax2.set_ylim(0.7,1)\n",
    "    ax2.set_title(\"r2\")\n",
    "    ax2.set_xlabel(\"Memory Number\")\n",
    "\n",
    "    data = []\n",
    "    for info in r3.resource_manager.memory_manager:\n",
    "        data.append(info.fidelity)\n",
    "    ax3.bar(range(len(data)), data)\n",
    "    ax3.plot([0, len(data)], [raw_fidelity, raw_fidelity], \"k--\")\n",
    "    ax3.plot([0, len(data)], [0.9, 0.9], \"k--\")\n",
    "    ax3.set_ylim(0.7,1)\n",
    "    ax3.set_title(\"r3\")\n",
    "    \n",
    "    fig.tight_layout()"
   ]
  },
  {
   "cell_type": "markdown",
   "metadata": {},
   "source": [
    "### Execution\n",
    "\n",
    "Parameters:\n",
    "\n",
    "    sim_time: duration of simulation time (ms)\n",
    "    cc_delay: delay on classical channels (ns)\n",
    "    qc_atten: attenuation on quantum channels (db/m)\n",
    "    qc_dist: distance of quantum channels (km)\n",
    "    "
   ]
  },
  {
   "cell_type": "code",
   "execution_count": 4,
   "metadata": {
    "scrolled": true
   },
   "outputs": [
    {
     "data": {
      "application/vnd.jupyter.widget-view+json": {
       "model_id": "71c13bbf69664b55a2fffeffcd21f59a",
       "version_major": 2,
       "version_minor": 0
      },
      "text/plain": [
       "interactive(children=(IntSlider(value=3000, description='sim_time', max=4000, min=2000, step=500), IntSlider(v…"
      ]
     },
     "metadata": {},
     "output_type": "display_data"
    },
    {
     "data": {
      "text/plain": [
       "<function __main__.test(sim_time, cc_delay, qc_atten, qc_dist)>"
      ]
     },
     "execution_count": 4,
     "metadata": {},
     "output_type": "execute_result"
    }
   ],
   "source": [
    "interactive_plot = interact(test, sim_time=(2000, 4000, 500), cc_delay=(100, 1000, 100), qc_atten=[1e-5, 2e-5, 3e-5], qc_dist=(1, 10, 1))\n",
    "interactive_plot"
   ]
  }
 ],
 "metadata": {
  "kernelspec": {
   "display_name": "Python 3 (ipykernel)",
   "language": "python",
   "name": "python3"
  },
  "language_info": {
   "codemirror_mode": {
    "name": "ipython",
    "version": 3
   },
   "file_extension": ".py",
   "mimetype": "text/x-python",
   "name": "python",
   "nbconvert_exporter": "python",
   "pygments_lexer": "ipython3",
   "version": "3.9.7"
  }
 },
 "nbformat": 4,
 "nbformat_minor": 1
}
